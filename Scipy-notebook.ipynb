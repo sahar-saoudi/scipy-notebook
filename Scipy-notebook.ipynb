{
 "cells": [
  {
   "cell_type": "markdown",
   "metadata": {},
   "source": [
    "# Introduction to Scipy\n",
    "\n",
    "In this notebook, I added basic ways to use the Scipy library.\n",
    "\n",
    "For context, Scipy is an est open-source library of scientific calculus in Python and it is based of Numpy. With Scipy, we can do linear algebra, statistics, signal treatment and many other things. "
   ]
  },
  {
   "cell_type": "markdown",
   "metadata": {},
   "source": [
    "## Importing the necessary libraries \n",
    "We should always start by importing the libraries we need to make our porgram work.\n",
    "\n",
    "It is highly recommended to not use ```import scipy``` . Instead, we can specify what we want to import. For example we can write : \n",
    "\n",
    "```from scipy import constants```"
   ]
  },
  {
   "cell_type": "code",
   "execution_count": 1,
   "metadata": {},
   "outputs": [],
   "source": [
    "import numpy as np\n",
    "from scipy import constants, optimize, stats, linalg\n",
    "from scipy.constants import pi, speed_of_light\n",
    "from scipy.linalg import inv, solve, svd, norm, det, ishermitian, hadamard"
   ]
  },
  {
   "cell_type": "markdown",
   "metadata": {},
   "source": [
    "## Calculus\n",
    "\n",
    "For some reason, your physics professor asked you to calculate $$π * \\text{speed of light}$$ You can do it with the help of scipy: "
   ]
  },
  {
   "cell_type": "code",
   "execution_count": 2,
   "metadata": {},
   "outputs": [
    {
     "name": "stdout",
     "output_type": "stream",
     "text": [
      "the resultat is: 941825783.6544266\n"
     ]
    }
   ],
   "source": [
    "# calculate pi * speed of light\n",
    "\n",
    "result = pi * speed_of_light\n",
    "print (\"the resultat is:\", result)"
   ]
  },
  {
   "cell_type": "markdown",
   "metadata": {},
   "source": [
    "### Linear Algebra\n",
    "\n",
    "We can also use Scipy to do linear algebra. \n",
    "\n",
    "We will start by using numpy to create a matrix:"
   ]
  },
  {
   "cell_type": "code",
   "execution_count": 3,
   "metadata": {},
   "outputs": [
    {
     "name": "stdout",
     "output_type": "stream",
     "text": [
      "Matrix A:\n",
      " [[1 2]\n",
      " [3 4]]\n"
     ]
    }
   ],
   "source": [
    "A = np.array([[1,2],\n",
    "              [3,4]]) # a matrix numpy 2x2 of your choice\n",
    "\n",
    "print(\"Matrix A:\\n\", A)"
   ]
  },
  {
   "cell_type": "markdown",
   "metadata": {},
   "source": [
    "Now, you can inverse the matrix A using ```linalg``` of scipy :"
   ]
  },
  {
   "cell_type": "code",
   "execution_count": 4,
   "metadata": {},
   "outputs": [
    {
     "name": "stdout",
     "output_type": "stream",
     "text": [
      "Matrix A inversed:\n",
      " [[-2.   1. ]\n",
      " [ 1.5 -0.5]]\n"
     ]
    }
   ],
   "source": [
    "A_inv = inv(A) # inverser A avec scipy\n",
    "\n",
    "print(\"Matrix A inversed:\\n\", A_inv)"
   ]
  },
  {
   "cell_type": "markdown",
   "metadata": {},
   "source": [
    "### Solving an equation system\n",
    "We can solve this equation with scipy $$Ax = B.$$\n",
    "\n",
    "We need to initialize a vector B first."
   ]
  },
  {
   "cell_type": "code",
   "execution_count": 5,
   "metadata": {},
   "outputs": [
    {
     "name": "stdout",
     "output_type": "stream",
     "text": [
      " the solution to this equation is:  [0.  0.5]\n"
     ]
    }
   ],
   "source": [
    "B = np.array([1,2]) # initializing B\n",
    "\n",
    "x = solve(A, B) # solving equation with scipy\n",
    "print ( \" the solution to this equation is: \", x)"
   ]
  },
  {
   "cell_type": "markdown",
   "metadata": {},
   "source": [
    "We can now find the eigenvalues and the eigenvectors of our matrix A"
   ]
  },
  {
   "cell_type": "code",
   "execution_count": 6,
   "metadata": {},
   "outputs": [
    {
     "name": "stdout",
     "output_type": "stream",
     "text": [
      "the eigenvalues of A are:  [-0.37228132  5.37228132]\n",
      "the eigenvectors of A are:  [[-0.82456484 -0.41597356]\n",
      " [ 0.56576746 -0.90937671]]\n"
     ]
    }
   ],
   "source": [
    "eigenvalues, eigenvectors = np.linalg.eig(A) # using scipy to find the proper values and vectors of a matrix\n",
    "\n",
    "print (\"the eigenvalues of A are: \", eigenvalues)\n",
    "print (\"the eigenvectors of A are: \", eigenvectors)"
   ]
  },
  {
   "cell_type": "markdown",
   "metadata": {},
   "source": [
    "we can also do a the singular value decomposition of a matrix (SVD) with Scipy."
   ]
  },
  {
   "cell_type": "code",
   "execution_count": 7,
   "metadata": {},
   "outputs": [
    {
     "name": "stdout",
     "output_type": "stream",
     "text": [
      "Matrice X (singular vectors on the left ) :\n",
      " [[-0.40455358 -0.9145143 ]\n",
      " [-0.9145143   0.40455358]]\n",
      "\n",
      "singular vectors (singular values on the diagonal) :\n",
      " [[5.4649857  0.        ]\n",
      " [0.         0.36596619]]\n",
      "\n",
      "Matrix Z (singular values on the right) :\n",
      " [[-0.57604844 -0.81741556]\n",
      " [ 0.81741556 -0.57604844]]\n"
     ]
    }
   ],
   "source": [
    "# using scipy to do an SVD\n",
    "x, y, z = svd(A)\n",
    "\n",
    "# showing results\n",
    "print(\"Matrice X (singular vectors on the left ) :\\n\", x)\n",
    "print(\"\\nsingular vectors (singular values on the diagonal) :\\n\", np.diag(y))\n",
    "print(\"\\nMatrix Z (singular values on the right) :\\n\", z)"
   ]
  },
  {
   "cell_type": "markdown",
   "metadata": {},
   "source": [
    "We can also calculate the norm of a matrix with scipy:"
   ]
  },
  {
   "cell_type": "code",
   "execution_count": 8,
   "metadata": {},
   "outputs": [
    {
     "name": "stdout",
     "output_type": "stream",
     "text": [
      "the norm of our matrix A is:  5.477225575051661\n"
     ]
    }
   ],
   "source": [
    "# calculating the norm of our matrix A\n",
    "norm = norm(A)\n",
    "\n",
    "print(\"the norm of our matrix A is: \", norm)"
   ]
  },
  {
   "cell_type": "markdown",
   "metadata": {},
   "source": [
    "we can also calculate the determinant of our matrix:"
   ]
  },
  {
   "cell_type": "code",
   "execution_count": 9,
   "metadata": {},
   "outputs": [
    {
     "name": "stdout",
     "output_type": "stream",
     "text": [
      "the determinant of A is : -2.0\n"
     ]
    }
   ],
   "source": [
    "# calculate the determinant of A\n",
    "determinant = det(A)\n",
    "\n",
    "print(\"the determinant of A is :\", determinant)"
   ]
  },
  {
   "cell_type": "markdown",
   "metadata": {},
   "source": [
    "Scipy also allows us to verify if our matrix is hermitian or not:"
   ]
  },
  {
   "cell_type": "code",
   "execution_count": 10,
   "metadata": {},
   "outputs": [
    {
     "name": "stdout",
     "output_type": "stream",
     "text": [
      " the matrix is not hermitian\n"
     ]
    }
   ],
   "source": [
    "est_hermitienne = ishermitian(A)\n",
    "\n",
    "if est_hermitienne == False:\n",
    "    print (\" the matrix is not hermitian\")\n",
    "else:\n",
    "    print (\" the matrix is hermitian\")"
   ]
  },
  {
   "cell_type": "markdown",
   "metadata": {},
   "source": [
    "In addition, we can create a Hadamard matrix with Scipy. We can also choose the size of this matrix"
   ]
  },
  {
   "cell_type": "code",
   "execution_count": 11,
   "metadata": {},
   "outputs": [
    {
     "name": "stdout",
     "output_type": "stream",
     "text": [
      "[[ 1  1]\n",
      " [ 1 -1]]\n"
     ]
    }
   ],
   "source": [
    "n=2 # desired size for the matrix\n",
    "\n",
    "# using scipy to generate a Hadamard matrix\n",
    "H = hadamard(n)\n",
    "\n",
    "print(H)"
   ]
  }
 ],
 "metadata": {
  "kernelspec": {
   "display_name": "Python 3",
   "language": "python",
   "name": "python3"
  },
  "language_info": {
   "codemirror_mode": {
    "name": "ipython",
    "version": 3
   },
   "file_extension": ".py",
   "mimetype": "text/x-python",
   "name": "python",
   "nbconvert_exporter": "python",
   "pygments_lexer": "ipython3",
   "version": "3.8.2"
  }
 },
 "nbformat": 4,
 "nbformat_minor": 2
}
